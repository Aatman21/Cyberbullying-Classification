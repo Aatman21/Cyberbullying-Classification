{
  "nbformat": 4,
  "nbformat_minor": 0,
  "metadata": {
    "colab": {
      "provenance": []
    },
    "kernelspec": {
      "name": "python3",
      "display_name": "Python 3"
    },
    "language_info": {
      "name": "python"
    }
  },
  "cells": [
    {
      "cell_type": "code",
      "execution_count": null,
      "metadata": {
        "id": "HZgI196isCeu"
      },
      "outputs": [],
      "source": [
        "# Begin by installing the required dependencies\n",
        "# such as tensorflow and import Sequential, Dense, Dropout, LSTM"
      ]
    },
    {
      "cell_type": "code",
      "source": [],
      "metadata": {
        "id": "IH-JF-Quveqp"
      },
      "execution_count": null,
      "outputs": []
    },
    {
      "cell_type": "code",
      "source": [
        "# Load the MNIST Dataset\n",
        "# Divide it into x_train, y_train, x_test, y_test"
      ],
      "metadata": {
        "id": "e3MzkS0Dvszt"
      },
      "execution_count": null,
      "outputs": []
    },
    {
      "cell_type": "code",
      "source": [],
      "metadata": {
        "id": "rp01YFOAs-w_"
      },
      "execution_count": null,
      "outputs": []
    },
    {
      "cell_type": "code",
      "source": [
        "# There isn't much data preprocessing involved apart from normalizing the pixels so kindly do so"
      ],
      "metadata": {
        "id": "Lwnf-bKttMEv"
      },
      "execution_count": null,
      "outputs": []
    },
    {
      "cell_type": "code",
      "source": [],
      "metadata": {
        "id": "r9Tk98N5tR8H"
      },
      "execution_count": null,
      "outputs": []
    },
    {
      "cell_type": "markdown",
      "source": [
        "**Building the RNN Model**"
      ],
      "metadata": {
        "id": "phOt2qE24nQb"
      }
    },
    {
      "cell_type": "code",
      "source": [
        "# Initialize a Sequential model object."
      ],
      "metadata": {
        "id": "6TaVH9Ldto31"
      },
      "execution_count": null,
      "outputs": []
    },
    {
      "cell_type": "code",
      "source": [],
      "metadata": {
        "id": "MScrczqC4jM8"
      },
      "execution_count": null,
      "outputs": []
    },
    {
      "cell_type": "code",
      "source": [
        "# Add an LSTM layer with 128 units, ReLU activation, and specify the input shape. Set it to return sequences.\n",
        "# Add a Dropout layer with a rate of 0.2 for regularization."
      ],
      "metadata": {
        "id": "b52eW5TN4jdX"
      },
      "execution_count": null,
      "outputs": []
    },
    {
      "cell_type": "code",
      "source": [],
      "metadata": {
        "id": "sE6pu-Cjtx_C"
      },
      "execution_count": null,
      "outputs": []
    },
    {
      "cell_type": "code",
      "source": [
        "# Add another LSTM layer with 128 units and ReLU activation.\n",
        "# Add a Dropout layer with a rate of 0.2 for regularization."
      ],
      "metadata": {
        "id": "shKdmQFbuMb-"
      },
      "execution_count": null,
      "outputs": []
    },
    {
      "cell_type": "code",
      "source": [],
      "metadata": {
        "id": "V-GZTKRYuQGm"
      },
      "execution_count": null,
      "outputs": []
    },
    {
      "cell_type": "code",
      "source": [
        "# Add a Dense layer with 32 units and ReLU activation.\n",
        "# Add a Dropout layer with a rate of 0.2 for regularization."
      ],
      "metadata": {
        "id": "ddrfh7Gd0kbZ"
      },
      "execution_count": null,
      "outputs": []
    },
    {
      "cell_type": "code",
      "source": [],
      "metadata": {
        "id": "KGiqNrvT4bC8"
      },
      "execution_count": null,
      "outputs": []
    },
    {
      "cell_type": "code",
      "source": [
        "# Add a Dense layer with 10 units and softmax activation for the final output probabilities.\n",
        "# Define the Adam optimizer with a learning rate of 1e-3."
      ],
      "metadata": {
        "id": "UciKbREP4bPs"
      },
      "execution_count": null,
      "outputs": []
    },
    {
      "cell_type": "code",
      "source": [],
      "metadata": {
        "id": "kq0s2Mfu4cGN"
      },
      "execution_count": null,
      "outputs": []
    },
    {
      "cell_type": "code",
      "source": [
        "# Compile and Train the Model using appropriate optimizer and loss function"
      ],
      "metadata": {
        "id": "q0WZlir-0lV1"
      },
      "execution_count": null,
      "outputs": []
    },
    {
      "cell_type": "code",
      "source": [],
      "metadata": {
        "id": "1cIhpwM503CU"
      },
      "execution_count": null,
      "outputs": []
    },
    {
      "cell_type": "code",
      "source": [
        "# print out the Accuracy Score"
      ],
      "metadata": {
        "id": "IO23lgAW07C-"
      },
      "execution_count": null,
      "outputs": []
    },
    {
      "cell_type": "code",
      "source": [],
      "metadata": {
        "id": "eZWPLc_81Jcj"
      },
      "execution_count": null,
      "outputs": []
    }
  ]
}